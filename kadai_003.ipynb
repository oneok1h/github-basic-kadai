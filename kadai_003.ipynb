{
  "cells": [
    {
      "cell_type": "code",
      "source": [
        "# NumPyをインポート\n",
        "import numpy as np\n",
        "\n",
        "# NumPyの多次元配列\n",
        "multi_array = np.array([[0, 1], [2, 3], [4, 5], [6, 7]])\n",
        "multi_array\n",
        "\n",
        "# 行列の積の計算\n",
        "A = np.array([[0, 1], [2, 3], [4, 5]])\n",
        "B = np.array([[0, 1, 2, 3], [4, 5, 6, 7]])\n",
        "\n",
        "# 計算結果を表示する\n",
        "print(np.dot(A, B))\n",
        "\n",
        "# 行列の要素の最大値\n",
        "np.dot(A, B).max()"
      ],
      "metadata": {
        "id": "d56H7--XLJQU",
        "colab": {
          "base_uri": "https://localhost:8080/"
        },
        "outputId": "ec05712f-e649-420c-bf47-be79b87d1f9c"
      },
      "execution_count": 23,
      "outputs": [
        {
          "output_type": "stream",
          "name": "stdout",
          "text": [
            "[[ 4  5  6  7]\n",
            " [12 17 22 27]\n",
            " [20 29 38 47]]\n"
          ]
        },
        {
          "output_type": "execute_result",
          "data": {
            "text/plain": [
              "47"
            ]
          },
          "metadata": {},
          "execution_count": 23
        }
      ]
    }
  ],
  "metadata": {
    "accelerator": "GPU",
    "colab": {
      "gpuType": "T4",
      "provenance": []
    },
    "kernelspec": {
      "display_name": "Python 3",
      "name": "python3"
    },
    "language_info": {
      "name": "python"
    }
  },
  "nbformat": 4,
  "nbformat_minor": 0
}