{
  "nbformat": 4,
  "nbformat_minor": 0,
  "metadata": {
    "colab": {
      "provenance": [],
      "gpuType": "T4"
    },
    "kernelspec": {
      "name": "python3",
      "display_name": "Python 3"
    },
    "language_info": {
      "name": "python"
    },
    "accelerator": "GPU"
  },
  "cells": [
    {
      "cell_type": "code",
      "source": [
        "# 上辺10㎝\n",
        "top_side = 10\n",
        "\n",
        "# 下辺20㎝\n",
        "bottom_side = 20\n",
        "\n",
        "# 高さ5㎝\n",
        "height = 5\n",
        "\n",
        "# 台形の面積の計算式\n",
        "area = ((top_side + bottom_side) * height / 2)\n",
        "\n",
        "# 台形の面積の計算結果\n",
        "print(f\"台形の面積は{area}㎠です。\")"
      ],
      "metadata": {
        "colab": {
          "base_uri": "https://localhost:8080/"
        },
        "id": "vyG2tpFHbhb5",
        "outputId": "24e2a3e0-521b-410f-d868-63ea17f2ad37"
      },
      "execution_count": 130,
      "outputs": [
        {
          "output_type": "stream",
          "name": "stdout",
          "text": [
            "台形の面積は75.0㎠です。\n"
          ]
        }
      ]
    }
  ]
}