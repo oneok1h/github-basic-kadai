{
  "nbformat": 4,
  "nbformat_minor": 0,
  "metadata": {
    "colab": {
      "provenance": [],
      "gpuType": "T4"
    },
    "kernelspec": {
      "name": "python3",
      "display_name": "Python 3"
    },
    "language_info": {
      "name": "python"
    },
    "accelerator": "GPU"
  },
  "cells": [
    {
      "cell_type": "code",
      "source": [
        "# for文での記述\n",
        "array_lists = [\"水\",\"金\",\"地\",\"火\",\"木\",\"土\",\"天\",\"海\",\"冥\"]\n",
        "\n",
        "# for文で、配列arrayの要素を1つずつ順番に出力する\n",
        "for array in array_lists:\n",
        "    print(array)\n",
        ""
      ],
      "metadata": {
        "colab": {
          "base_uri": "https://localhost:8080/"
        },
        "id": "G-Wnn7Zuw4aV",
        "outputId": "7e6f4874-a956-4e81-b78c-3157981b247c"
      },
      "execution_count": 18,
      "outputs": [
        {
          "output_type": "stream",
          "name": "stdout",
          "text": [
            "水\n",
            "金\n",
            "地\n",
            "火\n",
            "木\n",
            "土\n",
            "天\n",
            "海\n",
            "冥\n"
          ]
        }
      ]
    },
    {
      "cell_type": "code",
      "source": [
        "# while文での記述\n",
        "array_lists = [\"水\",\"金\",\"地\",\"火\",\"木\",\"土\",\"天\",\"海\",\"冥\"]\n",
        "\n",
        "# i = 0 で初期化した状態から始める\n",
        "i = 0\n",
        "\n",
        "# 配列の値が i 以下になったら\n",
        "while i < len(array_lists):\n",
        "\n",
        "    # 配列内の値を出力する\n",
        "    print(array_lists[i])\n",
        "\n",
        "    # 毎回 i に1を足していく\n",
        "    i += 1\n",
        ""
      ],
      "metadata": {
        "id": "VefVLTxcPfvA",
        "outputId": "f5d14e98-c1c7-4f9b-f38c-c171c8d1060e",
        "colab": {
          "base_uri": "https://localhost:8080/"
        }
      },
      "execution_count": 16,
      "outputs": [
        {
          "output_type": "stream",
          "name": "stdout",
          "text": [
            "水\n",
            "金\n",
            "地\n",
            "火\n",
            "木\n",
            "土\n",
            "天\n",
            "海\n",
            "冥\n"
          ]
        }
      ]
    }
  ]
}