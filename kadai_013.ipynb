{
  "cells": [
    {
      "cell_type": "code",
      "source": [
        "def product(price,tax_rate):\n",
        "\n",
        "    # 引数price(商品の金額)と引数tax_rate(消費税)を掛けてpriceに加算し、変数totalに代入する\n",
        "    total = price * tax_rate + price\n",
        "\n",
        "    return total\n",
        "\n",
        "# 変数productの値を出力する\n",
        "print(f\"{product(1000,0.10)}円\")\n"
      ],
      "metadata": {
        "colab": {
          "base_uri": "https://localhost:8080/"
        },
        "id": "PleY9Fr9y6y_",
        "outputId": "0ab3d98d-d512-45c8-94bc-82138088902c"
      },
      "execution_count": 34,
      "outputs": [
        {
          "output_type": "stream",
          "name": "stdout",
          "text": [
            "1100.0円\n"
          ]
        }
      ]
    }
  ],
  "metadata": {
    "accelerator": "GPU",
    "colab": {
      "gpuType": "T4",
      "provenance": []
    },
    "kernelspec": {
      "display_name": "Python 3",
      "name": "python3"
    },
    "language_info": {
      "name": "python"
    }
  },
  "nbformat": 4,
  "nbformat_minor": 0
}