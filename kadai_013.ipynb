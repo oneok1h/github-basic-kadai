{
  "cells": [
    {
      "cell_type": "code",
      "source": [
        "def product(price,consumption_tax):\n",
        "    # 与えられた引数price(商品の金額)と引数consumption_tax(消費税)を加算いし、変数totalに代入する\n",
        "    total = price * consumption_tax\n",
        "\n",
        "    # 変数totalの値を出力する\n",
        "    print(f\"{total}円\")\n",
        "\n",
        " # 関数を呼び出し、引数として商品の金額と送料を渡す\n",
        "product(1000,0.1)\n"
      ],
      "metadata": {
        "colab": {
          "base_uri": "https://localhost:8080/"
        },
        "id": "PleY9Fr9y6y_",
        "outputId": "cd3a5af0-a69e-4f13-ff76-711e8ecbaad4"
      },
      "execution_count": 26,
      "outputs": [
        {
          "output_type": "stream",
          "name": "stdout",
          "text": [
            "100.0円\n"
          ]
        }
      ]
    }
  ],
  "metadata": {
    "accelerator": "GPU",
    "colab": {
      "gpuType": "T4",
      "provenance": []
    },
    "kernelspec": {
      "display_name": "Python 3",
      "name": "python3"
    },
    "language_info": {
      "name": "python"
    }
  },
  "nbformat": 4,
  "nbformat_minor": 0
}