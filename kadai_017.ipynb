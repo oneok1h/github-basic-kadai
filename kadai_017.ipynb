{
  "cells": [
    {
      "cell_type": "code",
      "source": [
        "# クラス\n",
        "class Human:\n",
        "\n",
        "    # コンストラクタを定義する\n",
        "    def __init__(self,name,age):\n",
        "        self.name = name\n",
        "        self.age = age\n",
        "\n",
        "    # nameとageを標準出力(print)するcheck_adultメソッドを定義する\n",
        "    def check_adult(self):\n",
        "\n",
        "        # 20歳以上であれば「大人である」、それいがいなら「大人ではない」と表示\n",
        "        if self.age >= 20:\n",
        "            print(f\"{self.name}は大人である\")\n",
        "        else:\n",
        "            print(f\"{self.name}は大人ではない\")\n",
        "\n",
        "# Hunamクラスのインスタンスを複数生成\n",
        "human1 = Human(\"侍太郎\", 25)\n",
        "human2 = Human(\"侍一郎\", 23)\n",
        "human3 = Human(\"侍二郎\", 20)\n",
        "human4 = Human(\"侍三郎\", 15)\n",
        "human5 = Human(\"侍四郎\", 13)\n",
        "\n",
        "# 生成したインスタンスをリストに追加\n",
        "human_list = [human1, human2, human3, human4, human5]\n",
        "\n",
        "# リストの要素数分だけcheck_adultメソッドを呼び出す\n",
        "for human in human_list:\n",
        "    human.check_adult()\n"
      ],
      "metadata": {
        "colab": {
          "base_uri": "https://localhost:8080/"
        },
        "id": "NvbWlZ0GxAfK",
        "outputId": "5bfa6083-f5a3-4d46-def7-692f759a63fe"
      },
      "execution_count": 9,
      "outputs": [
        {
          "output_type": "stream",
          "name": "stdout",
          "text": [
            "侍太郎は大人である\n",
            "侍一郎は大人である\n",
            "侍二郎は大人である\n",
            "侍三郎は大人ではない\n",
            "侍四郎は大人ではない\n"
          ]
        }
      ]
    }
  ],
  "metadata": {
    "accelerator": "GPU",
    "colab": {
      "gpuType": "T4",
      "provenance": []
    },
    "kernelspec": {
      "display_name": "Python 3",
      "name": "python3"
    },
    "language_info": {
      "name": "python"
    }
  },
  "nbformat": 4,
  "nbformat_minor": 0
}